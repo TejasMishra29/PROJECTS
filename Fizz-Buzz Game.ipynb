{
 "cells": [
  {
   "cell_type": "markdown",
   "id": "4de4b7f9",
   "metadata": {},
   "source": [
    "# FIZZ-BUZZ GAME CODE\n",
    "1.User Input: Prompt the user to input the upper limit for the FizzBuzz game (e.g., 100).\n",
    "\n",
    "2.Implementation: Write a loop that iterates through the numbers from 1 to the specified limit and applies the FizzBuzz rules.\n",
    "\n",
    "3.Conditionals: Use conditional statements (if-elif-else) to determine whether a number is a multiple of 3, 5, or both.\n",
    "\n",
    "4.Output: Display the numbers along with the appropriate replacements (\"Fizz,\" \"Buzz,\" or \"FizzBuzz\") based on the rules.\n",
    "\n",
    "5.Code Organization: Write clean and well-organized code with comments explaining each step of the process.\n",
    "\n",
    "The \"FizzBuzz Game in Python\" project is a classic programming exercise that focuses on conditionals and looping constructs. The game involves printing numbers from 1 to a specified limit, with certain rules applied to some numbers. Specifically, numbers that are multiples of 3 are replaced with \"Fizz,\" numbers that are multiples of 5 are replaced with \"Buzz,\" and numbers that are multiples of both 3 and 5 are replaced with \"FizzBuzz.\" This project is an excellent opportunity to practice problem-solving skills and learn how to structure conditional logic and loops effectively."
   ]
  },
  {
   "cell_type": "code",
   "execution_count": 1,
   "id": "7692b079",
   "metadata": {},
   "outputs": [
    {
     "name": "stdout",
     "output_type": "stream",
     "text": [
      "Welcome to the FizzBuzz Game!\n",
      "Enter the upper limit: 20\n",
      "1\n",
      "2\n",
      "Fizz\n",
      "4\n",
      "Buzz\n",
      "Fizz\n",
      "7\n",
      "8\n",
      "Fizz\n",
      "Buzz\n",
      "11\n",
      "Fizz\n",
      "13\n",
      "14\n",
      "FizzBuzz\n",
      "16\n",
      "17\n",
      "Fizz\n",
      "19\n",
      "Buzz\n"
     ]
    }
   ],
   "source": [
    "def fizz_buzz(limit):\n",
    "    for num in range(1, limit + 1):\n",
    "        if num % 3 == 0 and num % 5 == 0:\n",
    "            print(\"FizzBuzz\")\n",
    "        elif num % 3 == 0:\n",
    "            print(\"Fizz\")\n",
    "        elif num % 5 == 0:\n",
    "            print(\"Buzz\")\n",
    "        else:\n",
    "            print(num)\n",
    "\n",
    "def main():\n",
    "    print(\"Welcome to the FizzBuzz Game!\")\n",
    "    limit = int(input(\"Enter the upper limit: \"))\n",
    "    fizz_buzz(limit)\n",
    "\n",
    "if __name__ == \"__main__\":\n",
    "    main()"
   ]
  },
  {
   "cell_type": "code",
   "execution_count": null,
   "id": "d3441329",
   "metadata": {},
   "outputs": [],
   "source": []
  }
 ],
 "metadata": {
  "kernelspec": {
   "display_name": "Python 3 (ipykernel)",
   "language": "python",
   "name": "python3"
  },
  "language_info": {
   "codemirror_mode": {
    "name": "ipython",
    "version": 3
   },
   "file_extension": ".py",
   "mimetype": "text/x-python",
   "name": "python",
   "nbconvert_exporter": "python",
   "pygments_lexer": "ipython3",
   "version": "3.9.13"
  }
 },
 "nbformat": 4,
 "nbformat_minor": 5
}
